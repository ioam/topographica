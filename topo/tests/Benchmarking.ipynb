{
 "metadata": {
  "name": "",
  "signature": "sha256:d23bc6d607f8b8970f8a139868f33768783a95dc56f8742fd7b22d34c68c636d"
 },
 "nbformat": 3,
 "nbformat_minor": 0,
 "worksheets": [
  {
   "cells": [
    {
     "cell_type": "markdown",
     "metadata": {},
     "source": [
      "This IPython notebook was originally designed as a part of a benchmarking procedure required for the \"GPU-based cortical simulator\" project by Ignotas Sulzenko. It includes a general-purpose procedure for benchmarking different versions of the Topographica simulator and contains code for graphing their running times to compare the different versions.\n",
      "\n",
      "The intended way to use this benchmarking notebook is to:\n",
      "\n",
      "- Checkout and tag the version of Topographica that you want to benchmark. The title of the tag is going to be used to distinguish between the versions when graphing.\n",
      "- Execute the \"Generating benchmarks\" section with the preferred model, cortex density values and iteration count. In general, it is recommended to repeat this procedure several times to increase the accuracy of the data (benchmarks with the same parameters are later averaged).\n",
      "- After the user decides that enough versions have been benchmarked, the user can proceed to the \"Loading benchmarks\" section. The benchmarks are loaded, grouped by the version tag, cortex density, iteration count and averaged among each group.\n",
      "- The loaded and averaged data can then be used to compose graphs. Sample code to generate graphs is included, but disabled (enabling the code cell and running it would not work unless you benchmarked the versions of Topographica, whose benchmark results are graphed)."
     ]
    },
    {
     "cell_type": "code",
     "collapsed": false,
     "input": [
      "import lancet, re, pandas\n",
      "import numpy as np\n",
      "from itertools import product\n",
      "import holoviews\n",
      "from holoviews import *\n",
      "import seaborn as sns\n",
      "%load_ext holoviews.ipython\n",
      "\n",
      "%output holomap='widgets' fig='svg' size=200 "
     ],
     "language": "python",
     "metadata": {},
     "outputs": []
    },
    {
     "cell_type": "markdown",
     "metadata": {},
     "source": [
      "# Generating benchmarks"
     ]
    },
    {
     "cell_type": "code",
     "collapsed": false,
     "input": [
      "benchmark_name   = 'benchmark_name'\n",
      "model_files = lancet.List('model_files', ['../../examples/gcal_sparse.ty'])\n",
      "cortex_density = lancet.List('cortex_density', [24])\n",
      "iterations = lancet.List('iterations', [10])\n",
      "resource=lancet.List('gpu',[True])  \n",
      "executable = './timing_script.sh'\n",
      "timing_cmd     = lancet.ShellCommand(executable=executable, posargs=['model_files', 'cortex_density', 'iterations', 'gpu'])\n",
      "p_space = model_files * cortex_density * iterations* resource\n",
      "\n",
      "lancet.Launcher(benchmark_name, p_space, timing_cmd, output_directory='benchmarking_output', max_concurrency=1)()"
     ],
     "language": "python",
     "metadata": {},
     "outputs": []
    },
    {
     "cell_type": "markdown",
     "metadata": {},
     "source": [
      "# Loading benchmarks"
     ]
    },
    {
     "cell_type": "code",
     "collapsed": false,
     "input": [
      "output_files = lancet.FilePattern('timing_files', './benchmarking_output/*-benchmark_name*/streams/*_tid_{tid:d}.o*')"
     ],
     "language": "python",
     "metadata": {},
     "outputs": []
    },
    {
     "cell_type": "code",
     "collapsed": false,
     "input": [
      "def parse_timings(filename):\n",
      "    with open(filename, 'r') as infile:\n",
      "        content = infile.read()\n",
      "    \n",
      "    host_m = re.search('^HOST:\\t(?P<host>.*?)\\n', content, re.MULTILINE)\n",
      "    param_m = re.search('^PARAMS:\\t(?P<model_file>.*?)\\t(?P<cortex_density>.*?)\\t(?P<iterations>.*?)\\t(?P<gpu>.*?)\\n', content, re.MULTILINE)\n",
      "    version_m = re.search('^VERSION:\\t(?P<version>.*?)\\n', content, re.MULTILINE)\n",
      "    timing_m = re.findall('^[0-9]*.[0-9]*u [0-9]*.[0-9]*s ([0-9]*:[0-9]*.[0-9]*) ([0-9]*.[0-9])%', content, re.MULTILINE)\n",
      "    if host_m is None or param_m is None or len(timing_m) < 3:\n",
      "        raise Exception(\"The benchmark file %s has incorrect format\" % filename)\n",
      "    timing_m = [(float(t.split(':')[0]) * 60 + float(t.split(':')[1]) + float('0.' + t.split('.')[1]), float(u)) for t, u in timing_m]\n",
      "    \n",
      "    p = param_m.groupdict()\n",
      "    p['gpu'] = True if p['gpu'] == 'True' else False\n",
      "    p['iterations'] = int(p['iterations'])\n",
      "    p['cortex_density'] = float(p['cortex_density'])\n",
      "    result = {'topo_startup_time': timing_m[0][0], 'topo_startup_cpu': timing_m[0][1],\n",
      "              'sim_startup_time': timing_m[1][0] - timing_m[0][0], 'sim_startup_cpu': timing_m[1][1],\n",
      "              'sim_run_time': timing_m[-1][0] - timing_m[1][0],\n",
      "              'total_time': timing_m[-1][0], 'total_cpu': timing_m[-1][1],\n",
      "              'time_per_iteration': (timing_m[-1][0] - timing_m[1][0])/p['iterations']}\n",
      "    result.update(host_m.groupdict())\n",
      "    result.update(p)\n",
      "    result.update(version_m.groupdict())\n",
      "    return result"
     ],
     "language": "python",
     "metadata": {},
     "outputs": []
    },
    {
     "cell_type": "code",
     "collapsed": false,
     "input": [
      "collected_timings = lancet.FileInfo(output_files, 'timing_files',\n",
      "                                lancet.CustomFile(metadata_fn=parse_timings))"
     ],
     "language": "python",
     "metadata": {},
     "outputs": []
    },
    {
     "cell_type": "code",
     "collapsed": false,
     "input": [
      "len(collected_timings)"
     ],
     "language": "python",
     "metadata": {},
     "outputs": []
    },
    {
     "cell_type": "code",
     "collapsed": false,
     "input": [
      "avg_timings = collected_timings.dframe.groupby(['host', 'version', 'cortex_density']).apply(np.mean)\n",
      "melmac = avg_timings.ix['melmac.inf.ed.ac.uk']"
     ],
     "language": "python",
     "metadata": {},
     "outputs": []
    },
    {
     "cell_type": "markdown",
     "metadata": {},
     "source": [
      "# Showing the constituents of total runtime in Traditional Topographica and Sparse Topographica (change the cell types to run):"
     ]
    },
    {
     "cell_type": "raw",
     "metadata": {},
     "source": [
      "constituents_traditional_vs_sparse = collected_timings.dframe.query('version in [\"Traditional_topographica\", \"Sparse_topographica\"] and host==\"melmac.inf.ed.ac.uk\"').groupby(['version', 'cortex_density']).apply(np.mean)\n",
      "constituents_traditional_vs_sparse.rename(columns={'sim_run_time': 'Simulation runtime', 'topo_startup_time' : 'Topographica startup', 'sim_startup_time': 'Simulation startup'}, inplace=True)"
     ]
    },
    {
     "cell_type": "raw",
     "metadata": {},
     "source": [
      "%%opts Bars [color_by=['stack'] apply_databounds=False show_grid=True]\n",
      "versions, densities, parts = [\"Traditional_topographica\", \"Sparse_topographica\"], [48, 142, 162], ['Topographica startup', 'Simulation startup','Simulation runtime']\n",
      "keys = product(versions, densities, parts)\n",
      "Bars([(k, constituents_traditional_vs_sparse.query('version == \"%s\" and cortex_density == %d' % (k[0], k[1]))[k[2]].mean()) for k in keys], key_dimensions=['Version', 'Cortex density', Dimension('Part', values=parts)], value_dimensions=['Time (seconds)'])"
     ]
    },
    {
     "cell_type": "markdown",
     "metadata": {},
     "source": [
      "# Sparse topographica bottlenecks (change the cell types to run):"
     ]
    },
    {
     "cell_type": "raw",
     "metadata": {},
     "source": [
      "versions = ['Sparse_topographica', 'Sparse_topographica_dot_only', 'Sparse_topographica_empty']\n",
      "sparse_timings = collected_timings.dframe.query('version in %s and host==\"melmac.inf.ed.ac.uk\"' % str(versions)).loc[:, ['cortex_density', 'version', 'sim_run_time']].groupby(['version', 'cortex_density']).mean()"
     ]
    },
    {
     "cell_type": "raw",
     "metadata": {},
     "source": [
      "learn_norm_time = sparse_timings.ix['Sparse_topographica'] - sparse_timings.ix['Sparse_topographica_dot_only']\n",
      "dot_time = sparse_timings.ix['Sparse_topographica_dot_only'] - sparse_timings.ix['Sparse_topographica_empty']\n",
      "other_time = sparse_timings.ix['Sparse_topographica'] - learn_norm_time - dot_time\n",
      "\n",
      "learn_norm_time /= sparse_timings.ix['Sparse_topographica'] * 0.01\n",
      "dot_time /= sparse_timings.ix['Sparse_topographica'] * 0.01\n",
      "other_time /= sparse_timings.ix['Sparse_topographica'] * 0.01"
     ]
    },
    {
     "cell_type": "raw",
     "metadata": {},
     "source": [
      "learn_norm_time.rename(columns={'sim_run_time': 'hebbian_norm'}, inplace=True)\n",
      "dot_time.rename(columns={'sim_run_time': 'dot'}, inplace=True)\n",
      "other_time.rename(columns={'sim_run_time': 'other'}, inplace=True)"
     ]
    },
    {
     "cell_type": "raw",
     "metadata": {},
     "source": [
      "sparse_bottlenecks_percentage = learn_norm_time.join(dot_time).join(other_time)"
     ]
    },
    {
     "cell_type": "raw",
     "metadata": {},
     "source": [
      "sparse_bottlenecks_percentage"
     ]
    },
    {
     "cell_type": "raw",
     "metadata": {},
     "source": [
      "sparse_bottlenecks_time_per_iteration = sparse_bottlenecks_percentage.apply(lambda row: row * sparse_timings.ix['Sparse_topographica'].loc[row.name]['sim_run_time'] * 0.01, axis=1) / 1000\n",
      "\n",
      "sparse_topo_dot = sparse_bottlenecks_time_per_iteration['dot']\n",
      "sparse_topo_hebbian_norm = sparse_bottlenecks_time_per_iteration['hebbian_norm']\n",
      "sparse_topo_other = sparse_bottlenecks_time_per_iteration['other']\n",
      "\n",
      "print \"Sparse topographica times per iteration:\"\n",
      "sparse_bottlenecks_time_per_iteration"
     ]
    },
    {
     "cell_type": "markdown",
     "metadata": {},
     "source": [
      "# Graphing the first successful GPU dot product against Traditional and Sparse Topographica dot product (change the cell types to run):"
     ]
    },
    {
     "cell_type": "raw",
     "metadata": {},
     "source": [
      "versions, densities, parts = ['GPU_topographica_dot_only', 'Traditional_topographica_dot_only', 'Sparse_topographica_dot_only'], [48, 142, 162], ['other', 'dot']\n",
      "gpu_dot_vs_traditional_dot = melmac.ix[versions]\n",
      "keys = list(product(densities, versions, parts))\n",
      "\n",
      "\n",
      "row_count = len(gpu_dot_vs_traditional_dot['time_per_iteration'])\n",
      "gpu_dot_vs_traditional_dot['dot'] = np.random.randn(row_count)\n",
      "gpu_dot_vs_traditional_dot['other'] = np.random.randn(row_count)\n",
      "\n",
      "for (d, v, p) in keys:\n",
      "    if 'Traditional' in v:\n",
      "        if p == 'other':\n",
      "            gpu_dot_vs_traditional_dot.ix[v][p][d] = melmac.ix['Traditional_topographica_empty']['time_per_iteration'][d]\n",
      "        else:\n",
      "            gpu_dot_vs_traditional_dot.ix[v][p][d] = gpu_dot_vs_traditional_dot.ix[v]['time_per_iteration'][d] - melmac.ix['Traditional_topographica_empty']['time_per_iteration'][d]\n",
      "    else:\n",
      "        if p == 'other':\n",
      "            gpu_dot_vs_traditional_dot.ix[v][p][d] = melmac.ix['Sparse_topographica_empty']['time_per_iteration'][d]\n",
      "        else:\n",
      "            gpu_dot_vs_traditional_dot.ix[v][p][d] = gpu_dot_vs_traditional_dot.ix[v]['time_per_iteration'][d] - melmac.ix['Sparse_topographica_empty']['time_per_iteration'][d]\n",
      "\n"
     ]
    },
    {
     "cell_type": "raw",
     "metadata": {},
     "source": [
      "%%opts Bars [color_by=['stack'] apply_databounds=False show_grid=True yticks=25]\n",
      "Bars([(k, gpu_dot_vs_traditional_dot.query('version == \"%s\" and cortex_density == %d' % (k[1], k[0]))[k[2]]) for k in keys], key_dimensions=['Cortex density',  Dimension('Version', values=versions), Dimension('Part', values=parts)], value_dimensions=['Time (seconds)'])"
     ]
    },
    {
     "cell_type": "raw",
     "metadata": {},
     "source": [
      "gpu_dot_vs_traditional_dot[['other', 'dot', 'time_per_iteration']]"
     ]
    },
    {
     "cell_type": "markdown",
     "metadata": {},
     "source": [
      "# Graphing the slow normalisation vs sparse vs dense (change the cell types to run)"
     ]
    },
    {
     "cell_type": "raw",
     "metadata": {},
     "source": [
      "versions, densities, parts = ['GPU_topographica_slow_normalisation', 'Traditional_topographica', 'Sparse_topographica'], [48, 142, 162], ['other', 'dot', 'hebbian_norm']\n",
      "gpu_vs_traditional_vs_sparse = melmac.ix[versions]\n",
      "keys = list(product(densities, versions, parts))\n",
      "\n",
      "\n",
      "row_count = len(gpu_vs_traditional_vs_sparse['time_per_iteration'])\n",
      "gpu_vs_traditional_vs_sparse['dot'] = np.random.randn(row_count)\n",
      "gpu_vs_traditional_vs_sparse['hebbian_norm'] = np.random.randn(row_count)\n",
      "gpu_vs_traditional_vs_sparse['other'] = np.random.randn(row_count)\n",
      "\n",
      "for (d, v, p) in keys:\n",
      "    if 'Traditional' in v:\n",
      "        if p == 'other':\n",
      "            gpu_vs_traditional_vs_sparse.ix[v][p][d] = melmac.ix['Traditional_topographica_empty']['time_per_iteration'][d]\n",
      "        if p == 'dot':\n",
      "            gpu_vs_traditional_vs_sparse.ix[v][p][d] = melmac.ix['Traditional_topographica_dot_only']['time_per_iteration'][d] - melmac.ix['Traditional_topographica_empty']['time_per_iteration'][d]\n",
      "        if p == 'hebbian_norm':\n",
      "            gpu_vs_traditional_vs_sparse.ix[v][p][d] = melmac.ix['Traditional_topographica']['time_per_iteration'][d] - melmac.ix['Traditional_topographica_dot_only']['time_per_iteration'][d]\n",
      "    else:\n",
      "        if p == 'other':\n",
      "            gpu_vs_traditional_vs_sparse.ix[v][p][d] = melmac.ix['Sparse_topographica_empty']['time_per_iteration'][d]\n",
      "        if p == 'dot':\n",
      "            gpu_vs_traditional_vs_sparse.ix[v][p][d] = gpu_dot_vs_traditional_dot.ix['GPU_topographica_dot_only']['dot'][d] if 'GPU' in v else gpu_dot_vs_traditional_dot.ix['Sparse_topographica_dot_only']['dot'][d]\n",
      "        if p == 'hebbian_norm':\n",
      "            gpu_vs_traditional_vs_sparse.ix[v][p][d] = gpu_vs_traditional_vs_sparse.ix[v]['time_per_iteration'][d] - (gpu_dot_vs_traditional_dot.ix['GPU_topographica_dot_only']['time_per_iteration'][d] if 'GPU' in v else gpu_dot_vs_traditional_dot.ix['Sparse_topographica_dot_only']['time_per_iteration'][d])\n",
      "\n"
     ]
    },
    {
     "cell_type": "raw",
     "metadata": {},
     "source": [
      "%%opts Bars [color_by=['stack'] apply_databounds=False show_grid=True yticks=25]\n",
      "Bars([(k, gpu_vs_traditional_vs_sparse.query('version == \"%s\" and cortex_density == %d' % (k[1], k[0]))[k[2]]) for k in keys], key_dimensions=['Cortex density',  Dimension('Version', values=versions), Dimension('Part', values=parts)], value_dimensions=['Time (seconds)'])"
     ]
    },
    {
     "cell_type": "raw",
     "metadata": {},
     "source": [
      "gpu_vs_traditional_vs_sparse[['other', 'dot', 'hebbian_norm', 'time_per_iteration']]"
     ]
    },
    {
     "cell_type": "markdown",
     "metadata": {},
     "source": [
      "# Graphing the performance of Traditional topographica vs GPU Topographica with slow normalisation and fixed normalisation (change the cell types to run)"
     ]
    },
    {
     "cell_type": "raw",
     "metadata": {},
     "source": [
      "versions, densities, parts = ['GPU_topographica_slow_normalisation', 'Synchronous_GPU_Kernels'], [48, 142, 162], ['other', 'dot', 'hebbian_norm']\n",
      "gpu_slow_fast_norm_vs_tratitional = melmac.ix[versions]\n",
      "keys = list(product(densities, versions, parts))\n",
      "\n",
      "row_count = len(gpu_slow_fast_norm_vs_tratitional['time_per_iteration'])\n",
      "for p in parts:\n",
      "    gpu_slow_fast_norm_vs_tratitional[p] = np.random.randn(row_count)\n",
      "\n",
      "for (d, v, p) in keys:\n",
      "    if p == 'other':\n",
      "        gpu_slow_fast_norm_vs_tratitional.ix[v][p][d] = melmac.ix['Sparse_topographica_empty']['time_per_iteration'][d]\n",
      "    if p == 'dot':\n",
      "        gpu_slow_fast_norm_vs_tratitional.ix[v][p][d] = gpu_dot_vs_traditional_dot.ix['GPU_topographica_dot_only']['dot'][d]\n",
      "    if p == 'hebbian_norm':\n",
      "        gpu_slow_fast_norm_vs_tratitional.ix[v][p][d] = gpu_slow_fast_norm_vs_tratitional.ix[v]['time_per_iteration'][d] - gpu_dot_vs_traditional_dot.ix['GPU_topographica_dot_only']['time_per_iteration'][d]"
     ]
    },
    {
     "cell_type": "raw",
     "metadata": {},
     "source": [
      "%%opts Bars [color_by=['stack'] apply_databounds=False show_grid=True yticks=25 show_legend=False]\n",
      "Bars([(k, gpu_slow_fast_norm_vs_tratitional.query('version == \"%s\" and cortex_density == %d' % (k[1], k[0]))[k[2]]) for k in keys], key_dimensions=['Cortex density',  Dimension('Version', values=versions), Dimension('Part', values=parts)], value_dimensions=['Time (seconds)'])"
     ]
    },
    {
     "cell_type": "raw",
     "metadata": {},
     "source": [
      "gpu_slow_fast_norm_vs_tratitional[['other', 'dot', 'hebbian_norm', 'time_per_iteration']]"
     ]
    },
    {
     "cell_type": "markdown",
     "metadata": {},
     "source": [
      "# Graphing the performance differences between Topographica GPU implementation using CSR and HYB sparse matrix formats (change the cell types to run):"
     ]
    },
    {
     "cell_type": "raw",
     "metadata": {},
     "source": [
      "versions, densities, parts = [\"Streamed_GPU_Kernels_HYB_dot_only\", \"Streamed_GPU_Kernels_CSR_dot_only\"], [48, 142, 162], ['other', 'dot']\n",
      "hyb_vs_csr = melmac.ix[versions]\n",
      "keys = list(product(densities, versions, parts))\n",
      "\n",
      "row_count = len(hyb_vs_csr['time_per_iteration'])\n",
      "for p in parts:\n",
      "  hyb_vs_csr[p] = np.random.randn(row_count)\n",
      "    \n",
      "for (d, v, p) in keys:\n",
      "  if p == 'other':\n",
      "    hyb_vs_csr.ix[v][p][d] = melmac.ix['Sparse_topographica_empty']['time_per_iteration'][d]\n",
      "  else:\n",
      "    hyb_vs_csr.ix[v][p][d] = hyb_vs_csr.ix[v]['time_per_iteration'][d] - melmac.ix['Sparse_topographica_empty']['time_per_iteration'][d]"
     ]
    },
    {
     "cell_type": "raw",
     "metadata": {},
     "source": [
      "%%opts Bars [color_by=['stack'] apply_databounds=False show_grid=True yticks=15 xrotation=90]\n",
      "Bars([(k, hyb_vs_csr.query('version == \"%s\" and cortex_density == %d' % (k[1], k[0]))[k[2]]) for k in keys], key_dimensions=['Cortex density',  Dimension('Version', values=versions), Dimension('Part', values=parts)], value_dimensions=['Time (seconds)'])"
     ]
    },
    {
     "cell_type": "raw",
     "metadata": {},
     "source": [
      "hyb_vs_csr[['other', 'dot', 'time_per_iteration']]"
     ]
    },
    {
     "cell_type": "markdown",
     "metadata": {},
     "source": [
      "# Synchronous vs streamed (change the cell types to run)"
     ]
    },
    {
     "cell_type": "raw",
     "metadata": {},
     "source": [
      "versions, densities, parts = [\"Streamed_GPU_Kernels\", \"Synchronous_GPU_Kernels\"], [48, 142, 162], ['other', 'dot', 'hebbian_norm']\n",
      "sync_vs_streamed = melmac.ix[versions]\n",
      "keys = list(product(densities, versions, parts))\n",
      "\n",
      "row_count = len(sync_vs_streamed['time_per_iteration'])\n",
      "for p in parts:\n",
      "    sync_vs_streamed[p] = np.random.randn(row_count)\n",
      "\n",
      "for (d, v, p) in keys:\n",
      "    if p == 'other':\n",
      "        sync_vs_streamed.ix[v][p][d] = melmac.ix['Sparse_topographica_empty']['time_per_iteration'][d]\n",
      "    if p == 'dot':\n",
      "        sync_vs_streamed.ix[v][p][d] = sync_vs_streamed.ix[v]['time_per_iteration'][d] - gpu_slow_fast_norm_vs_tratitional.ix['Synchronous_GPU_Kernels']['hebbian_norm'][d] - melmac.ix['Sparse_topographica_empty']['time_per_iteration'][d]\n",
      "    if p == 'hebbian_norm':\n",
      "        sync_vs_streamed.ix[v][p][d] = sync_vs_streamed.ix[v]['time_per_iteration'][d] - melmac.ix['Sparse_topographica_empty']['time_per_iteration'][d] - sync_vs_streamed.ix[v]['dot'][d]\n"
     ]
    },
    {
     "cell_type": "raw",
     "metadata": {},
     "source": [
      "%%opts Bars [color_by=['stack'] apply_databounds=False show_grid=True yticks=25 xrotation=90 show_legend=False]\n",
      "Bars([(k, sync_vs_streamed.query('version == \"%s\" and cortex_density == %d' % (k[1], k[0]))[k[2]]) for k in keys], key_dimensions=['Cortex density',  Dimension('Version', values=versions), Dimension('Part', values=parts)], value_dimensions=['Time (seconds)'])"
     ]
    },
    {
     "cell_type": "raw",
     "metadata": {},
     "source": [
      "sync_vs_streamed[['other', 'dot', 'hebbian_norm', 'time_per_iteration']]"
     ]
    },
    {
     "cell_type": "code",
     "collapsed": false,
     "input": [],
     "language": "python",
     "metadata": {},
     "outputs": []
    }
   ],
   "metadata": {}
  }
 ]
}