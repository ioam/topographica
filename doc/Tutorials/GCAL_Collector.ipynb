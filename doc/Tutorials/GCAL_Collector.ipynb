{
 "metadata": {
  "name": "",
  "signature": "sha256:b0a16453bbe7036a115cafc965303b13c11513d2f5ef49be8070ea56d9bc6286"
 },
 "nbformat": 3,
 "nbformat_minor": 0,
 "worksheets": [
  {
   "cells": [
    {
     "cell_type": "heading",
     "level": 1,
     "metadata": {},
     "source": [
      "GCAL Collector"
     ]
    },
    {
     "cell_type": "markdown",
     "metadata": {},
     "source": [
      "This notebook demonstrates how you can collect measurements and analyze data over development using the ``Collector`` class."
     ]
    },
    {
     "cell_type": "code",
     "collapsed": false,
     "input": [
      "%reload_ext topo.misc.ipython\n",
      "%view webm:5"
     ],
     "language": "python",
     "metadata": {},
     "outputs": []
    },
    {
     "cell_type": "heading",
     "level": 2,
     "metadata": {},
     "source": [
      "Defining the data to be collected"
     ]
    },
    {
     "cell_type": "code",
     "collapsed": false,
     "input": [
      "from topo.analysis import Collector\n",
      "from topo.command import runscript"
     ],
     "language": "python",
     "metadata": {},
     "outputs": []
    },
    {
     "cell_type": "markdown",
     "metadata": {},
     "source": [
      "<center><h3 class='alert alert-info'>Hypercolumn distance estimation requires ``scipy.optimize``</h3></center>"
     ]
    },
    {
     "cell_type": "code",
     "collapsed": false,
     "input": [
      "from topo.analysis.command import measure_or_pref\n",
      "from imagen.analysis import fft_power_spectrum\n",
      "from featuremapper.analysis.pinwheels import PinwheelAnalysis\n",
      "from featuremapper.analysis.hypercolumns import PowerSpectrumAnalysis\n",
      "\n",
      "from dataviews import Points"
     ],
     "language": "python",
     "metadata": {},
     "outputs": []
    },
    {
     "cell_type": "markdown",
     "metadata": {},
     "source": [
      "Collector can be configured to collect ``Sheet`` and ``Projection`` activities, ``Projection`` weights, the output of ``featuremapper`` measurements, array data (here the V1 homeostatic threshold) and can be instructed to analyze any of these sources with the ``analyze`` method:"
     ]
    },
    {
     "cell_type": "code",
     "collapsed": false,
     "input": [
      "c = Collector()\n",
      "Retina = c.sim('Retina')\n",
      "V1 = c.sim('V1')\n",
      "LGNOnAfferent =  c.sim('V1.LGNOnAfferent')\n",
      "LGNOffAfferent = c.sim('V1.LGNOffAfferent')\n",
      "\n",
      "# Projection activities\n",
      "c.Activity.LGNOnAfferent =  c.collect(LGNOnAfferent)\n",
      "c.Activity.LGNOffAfferent = c.collect(LGNOffAfferent)\n",
      "\n",
      "# OR preference measurement\n",
      "c.collect(measure_or_pref)\n",
      "# Sheet activities\n",
      "c.Activity.Retina =         c.collect(Retina)\n",
      "c.Activity.V1 =             c.collect(V1)\n",
      "# Connection fields\n",
      "c.CFs.LGNOnAfferent =       c.collect(LGNOnAfferent,  grid=True)\n",
      "c.CFs.LGNOffAfferent =      c.collect(LGNOffAfferent, grid=True)\n",
      "# Homeostatic threshold\n",
      "c.HomeostaticThreshold.V1 = c.collect(c.sim(array_ref='V1.output_fns[0].t'))\n",
      "# Analysis\n",
      "c.FFTPowerSpectrum.V1 =     c.analyze(c.ref.OrientationPreference.V1, fft_power_spectrum)\n",
      "c.Pinwheels.V1 =            c.analyze(c.ref.OrientationPreference.V1\n",
      "                                    * c.ref.OrientationSelectivity.V1, PinwheelAnalysis)\n",
      "c.FFTAnalysis.V1 =          c.analyze(c.ref.Pinwheels.V1, PowerSpectrumAnalysis)"
     ],
     "language": "python",
     "metadata": {},
     "outputs": []
    },
    {
     "cell_type": "markdown",
     "metadata": {},
     "source": [
      "We will now load the GCAL model:"
     ]
    },
    {
     "cell_type": "code",
     "collapsed": false,
     "input": [
      "runscript('../../examples/gcal.ty', cortex_density=47)"
     ],
     "language": "python",
     "metadata": {},
     "outputs": []
    },
    {
     "cell_type": "markdown",
     "metadata": {},
     "source": [
      "We will run the GCAL model for 15000 iterations, collecting the data defined above every 500 steps:"
     ]
    },
    {
     "cell_type": "code",
     "collapsed": false,
     "input": [
      "times = [500*i for i in range(31)]\n",
      "print(\"Collection will start at iteration %d and end on iteration %d\" % (min(times), max(times)))"
     ],
     "language": "python",
     "metadata": {},
     "outputs": []
    },
    {
     "cell_type": "code",
     "collapsed": false,
     "input": [
      "data = c(times=times)"
     ],
     "language": "python",
     "metadata": {},
     "outputs": []
    },
    {
     "cell_type": "heading",
     "level": 3,
     "metadata": {},
     "source": [
      "Sheet and projection activities"
     ]
    },
    {
     "cell_type": "markdown",
     "metadata": {},
     "source": [
      "Here are both the projection activities (top row) and sheet activies (bottom row)"
     ]
    },
    {
     "cell_type": "code",
     "collapsed": false,
     "input": [
      "data.Activity.grid().cols(2)"
     ],
     "language": "python",
     "metadata": {},
     "outputs": []
    },
    {
     "cell_type": "heading",
     "level": 3,
     "metadata": {},
     "source": [
      "Connection fields (weights)"
     ]
    },
    {
     "cell_type": "markdown",
     "metadata": {},
     "source": [
      "Here are the weights on the ON surround and OFF surround RGC+LGN projections:"
     ]
    },
    {
     "cell_type": "code",
     "collapsed": false,
     "input": [
      "data.CFs.LGNOnAfferent + data.CFs.LGNOffAfferent"
     ],
     "language": "python",
     "metadata": {},
     "outputs": []
    },
    {
     "cell_type": "heading",
     "level": 3,
     "metadata": {},
     "source": [
      "On minus OFF visualization"
     ]
    },
    {
     "cell_type": "markdown",
     "metadata": {},
     "source": [
      "Here is a visualization of the OFF weights subtracted from the ON weights:"
     ]
    },
    {
     "cell_type": "code",
     "collapsed": false,
     "input": [
      "on_minus_off = (data.CFs.LGNOnAfferent * data.CFs.LGNOffAfferent)\n",
      "on_minus_off.title = 'ON-OFF CFs'\n",
      "on_minus_off"
     ],
     "language": "python",
     "metadata": {},
     "outputs": []
    },
    {
     "cell_type": "heading",
     "level": 3,
     "metadata": {},
     "source": [
      "OR map and weights over development"
     ]
    },
    {
     "cell_type": "markdown",
     "metadata": {},
     "source": [
      "* The central map is an polar, orientation + selectivity orientation map.\n",
      "* The top histogram shows the distribution of orientation preferences across the map.\n",
      "* The star markers on the map show the positions from which the ON-OFF weights (on the left) are sampled.\n",
      "* The left side shows ON-OFF weights projecting to the V1 sheet."
     ]
    },
    {
     "cell_type": "code",
     "collapsed": false,
     "input": [
      "%view 150"
     ],
     "language": "python",
     "metadata": {},
     "outputs": []
    },
    {
     "cell_type": "code",
     "collapsed": false,
     "input": [
      "%%opts Points color='w' marker='*' s=100 edgecolors='k'\n",
      "annotated_map = (data.OrientationPreference.V1 \n",
      "                 * data.OrientationSelectivity.V1  \n",
      "                 * Points(on_minus_off[0,-0.3:0.3].keys()))\n",
      "annotated_map << on_minus_off[0,-0.3:0.3] <<  data.OrientationPreference.V1.hist(adjoin=False)"
     ],
     "language": "python",
     "metadata": {},
     "outputs": []
    },
    {
     "cell_type": "heading",
     "level": 2,
     "metadata": {},
     "source": [
      "Homeostatic threshold"
     ]
    },
    {
     "cell_type": "markdown",
     "metadata": {},
     "source": [
      "This is a visualization of the homeostatic threshold array (output function on the V1 sheet) over development:"
     ]
    },
    {
     "cell_type": "code",
     "collapsed": false,
     "input": [
      "data.HomeostaticThreshold.V1.hist()"
     ],
     "language": "python",
     "metadata": {},
     "outputs": []
    },
    {
     "cell_type": "heading",
     "level": 3,
     "metadata": {},
     "source": [
      "Orientation and Phase Preference and Selectivity"
     ]
    },
    {
     "cell_type": "markdown",
     "metadata": {},
     "source": [
      "This animations shows how preference and selectivity evolve over development:"
     ]
    },
    {
     "cell_type": "code",
     "collapsed": false,
     "input": [
      "%%view 75\n",
      "OR_HCS = data.OrientationPreference.V1 * data.OrientationSelectivity.V1\n",
      "phase_HCS = data.PhasePreference.V1 * data.PhaseSelectivity.V1\n",
      "top_row = OR_HCS + data.OrientationPreference.V1.hist() + data.OrientationSelectivity.V1.hist() \n",
      "bottom_row =  phase_HCS + data.PhasePreference.V1.hist() + data.PhaseSelectivity.V1.hist()\n",
      "(top_row + bottom_row).cols(3)"
     ],
     "language": "python",
     "metadata": {},
     "outputs": []
    },
    {
     "cell_type": "heading",
     "level": 3,
     "metadata": {},
     "source": [
      "Pinwheel and hypercolumn analysis"
     ]
    },
    {
     "cell_type": "markdown",
     "metadata": {},
     "source": [
      "The next plot shows analysis of a single (low resolution) GCAL simulation following the methods described in [Stevens et al. (2013)](http://www.jneurosci.org/content/33/40/15747.full):\n",
      "\n",
      "```\n",
      "@article{Stevens2013,\n",
      "   author = {Stevens, Jean-Luc R. and Law, Judith S. and\n",
      "   Antol\\'{i}k, J\\'{a}n and Bednar, James A.},\n",
      "   title = {Mechanisms for Stable, Robust, and Adaptive\n",
      "   Development of Orientation Maps in the Primary Visual Cortex},\n",
      "   journal = {The Journal of Neuroscience},\n",
      "   volume = {33}, \n",
      "   number = {40}, \n",
      "   pages = {15747-15766}, \n",
      "   year = {2013}, \n",
      "   doi = {10.1523/JNEUROSCI.1037-13.2013}, \n",
      "   url = {http://www.jneurosci.org/content/33/40/15747.full}\n",
      "}\n",
      "```\n",
      "\n",
      "The plot shows pinwheel and hypercolumn analysis for the GCAL model over development:\n",
      "\n",
      "\n",
      "* **Top left** - Orientation map annotated with pinwheel locations and real (white) and imaginary contours (black) in the polar representation. Adjoined plot shows orientation preference distribution.\n",
      "\n",
      "\n",
      "* **Top right** - Fourier power spectrum of the orientation preference map.\n",
      "\n",
      "\n",
      "* **Bottom left** - Collapsed 1D FFT power spectrum histogram and corresponding fit as described in the supplementary materials of [Kaschube et al. 2010](http://www.sciencemag.org/content/330/6007/1113.abstract).\n",
      "\n",
      "\n",
      "* **Bottom right** - Hypercolumn and pinwheel density analysis:\n",
      "\n",
      "   * **cycles**:  The number of cycles for a hypercolumn in the anaysed map.\n",
      "   * **k_delta**: The difference between the maximum power bin and the fitted maximum.\n",
      "   * **kmax**: The wavenumber bin with the highest power.\n",
      "   * **rho**: The pinwheel density.\n",
      "   * **rho metric**: The map metric based on the pinwheel density.\n",
      "   * **units_per_hc **: The number of units (samples) per hypercolumn."
     ]
    },
    {
     "cell_type": "code",
     "collapsed": false,
     "input": [
      "%view 100"
     ],
     "language": "python",
     "metadata": {},
     "outputs": []
    },
    {
     "cell_type": "code",
     "collapsed": false,
     "input": [
      "((data.Pinwheels.V1.hist(index=0) + data.FFTPowerSpectrum.V1) + data.FFTAnalysis.V1).cols(2)"
     ],
     "language": "python",
     "metadata": {},
     "outputs": []
    },
    {
     "cell_type": "markdown",
     "metadata": {},
     "source": [
      "We can collate the values of the pinwheel density over time to see how the pinwheel density changes over development. This graph is shown on the left of the figure below. There is a clear drop to zero at iteration 10000 which we can see is due to a failure of the fitting procedure at this time (shown on the right):"
     ]
    },
    {
     "cell_type": "code",
     "collapsed": false,
     "input": [
      "data.FFTAnalysis.V1[0,1].sample(['rho']).collate('Time') + data.FFTAnalysis.V1[0,0,10000,:]"
     ],
     "language": "python",
     "metadata": {},
     "outputs": []
    },
    {
     "cell_type": "markdown",
     "metadata": {},
     "source": [
      "In the [GCAL paper](http://www.jneurosci.org/content/33/40/15747.full) ten, high-quality simulations were run over a wide range of contrasts (with the borders trimmed to eliminate edge effects) so that a decent estimate of the pinwheel density could be obtained for the GCAL model as a whole."
     ]
    }
   ],
   "metadata": {}
  }
 ]
}